{
 "cells": [
  {
   "cell_type": "code",
   "execution_count": 1,
   "metadata": {},
   "outputs": [],
   "source": [
    "using Random\n",
    "using Statistics"
   ]
  },
  {
   "cell_type": "code",
   "execution_count": 69,
   "metadata": {},
   "outputs": [],
   "source": [
    "#=  1 - You are given two non-empty linked lists representing two non-negative integers. \n",
    "The digits are stored in reverse order, and each of their nodes contains a single digit. \n",
    "Add the two numbers and return the sum as a linked list.\n",
    "You may assume the two numbers do not contain any leading zero, except the number 0 itself. =#\n",
    "\n",
    "l1 = rand(1:9,3)\n",
    "l2 = rand(1:9,3)\n",
    "l3 = zeros(length(l1))\n",
    "l4 = zeros(length(l1))\n",
    "\n",
    "for i in 1:length(l1)\n",
    "    l3[i] = l1[end-i+1]\n",
    "    l4[i] = l2[end-i+1]\n",
    "end\n",
    "a=0; b=0\n",
    "for i in 1:length(l1)\n",
    "    a += l3[i]*10^(length(l1)-i)\n",
    "    b += l4[i]*10^(length(l1)-i)\n",
    "end\n",
    "println(a+b)"
   ]
  },
  {
   "cell_type": "code",
   "execution_count": 144,
   "metadata": {},
   "outputs": [
    {
     "name": "stdout",
     "output_type": "stream",
     "text": [
      "orsfkix"
     ]
    }
   ],
   "source": [
    "#= 2 - Given a string s, find the length of the longest substring without repeating characters. =#\n",
    "\n",
    "s=String(rand(collect('a':'z'), 10))\n",
    "s1=[]\n",
    "for i in 1:length(s)\n",
    "    if s[i] in s1\n",
    "        print(s[1:i-1])\n",
    "        break\n",
    "    else \n",
    "        push!(s1,s[i])\n",
    "    end\n",
    "end \n"
   ]
  },
  {
   "cell_type": "code",
   "execution_count": 175,
   "metadata": {},
   "outputs": [
    {
     "data": {
      "text/plain": [
       "436.0"
      ]
     },
     "execution_count": 175,
     "metadata": {},
     "output_type": "execute_result"
    }
   ],
   "source": [
    "#= 3 - Given two sorted arrays nums1 and nums2 of size m and n respectively, \n",
    "return the median of the two sorted arrays. =#\n",
    "\n",
    "n1 = (rand(1:1000, 5))\n",
    "n2 = (rand(1:1000,6))\n",
    "n3 = sort([n1;n2])\n",
    "median!(n3)"
   ]
  },
  {
   "cell_type": "code",
   "execution_count": 183,
   "metadata": {},
   "outputs": [
    {
     "data": {
      "text/plain": [
       "longest_palindromic_substring (generic function with 1 method)"
      ]
     },
     "execution_count": 183,
     "metadata": {},
     "output_type": "execute_result"
    }
   ],
   "source": [
    "#= 4 - Given a string s, return the longest palindromic substring in s. =#\n",
    "function longest_palindromic_substring(s::String)\n",
    "    max_len = 1\n",
    "    max_str = s[1]\n",
    "\n",
    "    for i in 1:length(s)-1\n",
    "        for j in i+1:length(s)\n",
    "            if j - i + 1 > max_len && s[i:j] == reverse(s[i:j])\n",
    "                max_len = j - i + 1\n",
    "                max_str = s[i:j]\n",
    "            end\n",
    "        end\n",
    "    end\n",
    "\n",
    "    return max_str\n",
    "end"
   ]
  },
  {
   "cell_type": "code",
   "execution_count": 221,
   "metadata": {},
   "outputs": [
    {
     "data": {
      "text/plain": [
       "intToRoman (generic function with 1 method)"
      ]
     },
     "execution_count": 221,
     "metadata": {},
     "output_type": "execute_result"
    }
   ],
   "source": [
    "#= 5 - Integer to Roman. =#\n",
    "function intToRoman(num::Int)\n",
    "    Roman = \"\"\n",
    "    storeIntRoman = [(1000, \"M\"), (900, \"CM\"), (500, \"D\"), (400, \"CD\"), \n",
    "                     (100, \"C\"), (90, \"XC\"), (50, \"L\"), (40, \"XL\"), \n",
    "                     (10, \"X\"), (9, \"IX\"), (5, \"V\"), (4, \"IV\"), (1, \"I\")]\n",
    "\n",
    "    for (value, symbol) in storeIntRoman\n",
    "        while num >= value\n",
    "            Roman *= symbol\n",
    "            num -= value\n",
    "        end\n",
    "    end\n",
    "\n",
    "    return Roman\n",
    "end"
   ]
  }
 ],
 "metadata": {
  "kernelspec": {
   "display_name": "Julia 1.10.3",
   "language": "julia",
   "name": "julia-1.10"
  },
  "language_info": {
   "file_extension": ".jl",
   "mimetype": "application/julia",
   "name": "julia",
   "version": "1.10.3"
  }
 },
 "nbformat": 4,
 "nbformat_minor": 2
}
